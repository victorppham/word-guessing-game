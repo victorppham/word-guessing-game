{
 "cells": [
  {
   "cell_type": "code",
   "execution_count": 362,
   "id": "cab4c1ed",
   "metadata": {},
   "outputs": [],
   "source": [
    "# initializing variables\n",
    "answer = 'potato'\n",
    "tries = 7\n",
    "guesses = ''\n",
    "answer_length = len(answer)\n",
    "indices = []\n",
    "multi_index = 0\n",
    "\n",
    "# filling 'guesses' with underscores and matching length\n",
    "while answer_length != 0:\n",
    "    guesses = guesses + \"_\"\n",
    "    answer_length -= 1\n",
    "    \n",
    "# turning 'guesses' into a list to change individual characters based on 'indices'\n",
    "listguesses = list(guesses)"
   ]
  },
  {
   "cell_type": "code",
   "execution_count": 363,
   "id": "9ec1fcdf",
   "metadata": {},
   "outputs": [],
   "source": [
    "def winner():\n",
    "    \n",
    "    winnerstring = ''\n",
    "    if 7 - tries == 1:\n",
    "        winnerstring = ' try!'\n",
    "    else:\n",
    "        winnerstring = ' tries!'\n",
    "        \n",
    "    print('Congratulations! The answer was \"' + answer + '\"!\\nYou got the answer in ' + str(7 - tries) + winnerstring)\n",
    "\n",
    "def separator():\n",
    "    print('=========================================')"
   ]
  },
  {
   "cell_type": "code",
   "execution_count": 365,
   "id": "89dcbe4a",
   "metadata": {},
   "outputs": [
    {
     "name": "stdout",
     "output_type": "stream",
     "text": [
      "Enter a single letter or word to guess: o\n",
      "=========================================\n",
      "Letter found!\n",
      "po___o\n",
      "Tries left: 5/7\n"
     ]
    }
   ],
   "source": [
    "# user input\n",
    "user_input = str(input('Enter a single letter or word to guess: '))\n",
    "\n",
    "if len(user_input) != 1: # word guess\n",
    "    if user_input == answer: # correct guess\n",
    "        winner()\n",
    "    else: # incorrect guess\n",
    "        print(\"Sorry, that's not the right word :(\")\n",
    "        \n",
    "else: # letter guess\n",
    "    \n",
    "    search_start = 0\n",
    "\n",
    "    while multi_index != -1: # loops through and finds all occurrences of input in 'answer'\n",
    "        multi_index = answer.find(user_input, search_start)\n",
    "        search_start = multi_index + 1\n",
    "        if multi_index != -1:\n",
    "            indices.append(multi_index) # stores occurences' indices into list\n",
    "\n",
    "    if not indices: # if input is not found then 'indices' list is empty\n",
    "        separator()\n",
    "        print('Letter not found, guess again')    \n",
    "    else:\n",
    "        separator()\n",
    "        print('Letter found!')\n",
    "        for x in indices:\n",
    "            listguesses[x] = user_input # replaces underscores with correct letters\n",
    "\n",
    "    indices = [] \n",
    "    multi_index = 0 # Clear variables for next guess\n",
    "\n",
    "    reassembled_guess = ''\n",
    "    for x in listguesses:\n",
    "        reassembled_guess = reassembled_guess + x # reassembles guess from listguesses\n",
    "\n",
    "    guesses = reassembled_guess # reassigns guesses from reassembled guess\n",
    "\n",
    "    # results\n",
    "    tries -= 1\n",
    "\n",
    "    print(guesses)\n",
    "    print('Tries left: ' + str(tries) + '/7')\n",
    "    \n",
    "    if guesses.find('_') == -1:\n",
    "        separator()\n",
    "        winner()\n",
    "    elif tries == 0:\n",
    "        separator()\n",
    "        print('Sorry, you lost! The answer was \"' + answer + '\". Better luck next time!')"
   ]
  },
  {
   "cell_type": "code",
   "execution_count": null,
   "id": "68582a29",
   "metadata": {},
   "outputs": [],
   "source": []
  }
 ],
 "metadata": {
  "kernelspec": {
   "display_name": "Python 3 (ipykernel)",
   "language": "python",
   "name": "python3"
  },
  "language_info": {
   "codemirror_mode": {
    "name": "ipython",
    "version": 3
   },
   "file_extension": ".py",
   "mimetype": "text/x-python",
   "name": "python",
   "nbconvert_exporter": "python",
   "pygments_lexer": "ipython3",
   "version": "3.9.12"
  }
 },
 "nbformat": 4,
 "nbformat_minor": 5
}
